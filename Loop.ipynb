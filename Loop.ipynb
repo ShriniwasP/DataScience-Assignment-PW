{
  "nbformat": 4,
  "nbformat_minor": 0,
  "metadata": {
    "colab": {
      "provenance": []
    },
    "kernelspec": {
      "name": "python3",
      "display_name": "Python 3"
    },
    "language_info": {
      "name": "python"
    }
  },
  "cells": [
    {
      "cell_type": "code",
      "execution_count": null,
      "metadata": {
        "colab": {
          "base_uri": "https://localhost:8080/"
        },
        "id": "4WqTfWafW7KW",
        "outputId": "5c51f033-7c00-4d1f-f849-10d0bf944fab"
      },
      "outputs": [
        {
          "output_type": "stream",
          "name": "stdout",
          "text": [
            "1\n",
            "2\n",
            "3\n",
            "4\n",
            "5\n"
          ]
        }
      ],
      "source": [
        "i = 1\n",
        "while i<6:\n",
        "  print(i)\n",
        "  i+=1"
      ]
    },
    {
      "cell_type": "code",
      "source": [
        "i=1\n",
        "b=0\n",
        "while i<11:\n",
        "  b = b+i\n",
        "  i+=1\n",
        "\n",
        "print(\"Sum of 10 bumbers is\", b)\n",
        "\n"
      ],
      "metadata": {
        "colab": {
          "base_uri": "https://localhost:8080/"
        },
        "id": "Jfli2Pb8XRID",
        "outputId": "5d2f3c46-1659-4969-bf27-8e5ab74a5896"
      },
      "execution_count": null,
      "outputs": [
        {
          "output_type": "stream",
          "name": "stdout",
          "text": [
            "Sum of 10 bumbers is 55\n"
          ]
        }
      ]
    },
    {
      "cell_type": "code",
      "source": [
        "a = int(input(\"Enter the number whose factorial you need:\"))\n",
        "b=1\n",
        "while a>1:\n",
        "  b = b*a\n",
        "  a=a-1\n",
        "\n",
        "print(\"Factorial of\", a, \"is\", b)"
      ],
      "metadata": {
        "colab": {
          "base_uri": "https://localhost:8080/"
        },
        "id": "PgDMNuPPX-FW",
        "outputId": "bf20825c-2540-4a83-8cb8-3613652e795b"
      },
      "execution_count": null,
      "outputs": [
        {
          "output_type": "stream",
          "name": "stdout",
          "text": [
            "Enter the number whose factorial you need:10\n",
            "Factorial of 1 is 3628800\n"
          ]
        }
      ]
    },
    {
      "cell_type": "code",
      "source": [
        "a = input(\"Enter your string:\")\n",
        "b=0\n",
        "for i in a:\n",
        "  if i == 'a' or i == 'e' or i == 'i' or i == 'o' or i == 'u':b+=1\n",
        "  else: continue\n",
        "\n",
        "print(b)\n",
        "\n",
        "\n",
        "\n"
      ],
      "metadata": {
        "colab": {
          "base_uri": "https://localhost:8080/"
        },
        "id": "Xj6PO6FWZ3q3",
        "outputId": "761d294a-b6b3-4665-e1dd-2b2e035cc88f"
      },
      "execution_count": null,
      "outputs": [
        {
          "output_type": "stream",
          "name": "stdout",
          "text": [
            "Enter your string:ahem\n",
            "2\n"
          ]
        }
      ]
    },
    {
      "cell_type": "code",
      "source": [
        "#pattern using nested loop\n",
        "r = int(input(\"Enter number of rows of your pattern:\"))\n",
        "i = 0\n",
        "while i < r:\n",
        "  i+=1\n",
        "  c = 0\n",
        "  print(\"\")\n",
        "  while c < i:\n",
        "    print(\"*\", end=\"\")\n",
        "    c+=1\n",
        ""
      ],
      "metadata": {
        "id": "QJy_pz42eBAm",
        "colab": {
          "base_uri": "https://localhost:8080/"
        },
        "outputId": "abb1e865-e935-4db3-ff1a-2fc841dedbdd"
      },
      "execution_count": 18,
      "outputs": [
        {
          "output_type": "stream",
          "name": "stdout",
          "text": [
            "Enter number of rows of your pattern:5\n",
            "\n",
            "*\n",
            "**\n",
            "***\n",
            "****\n",
            "*****"
          ]
        }
      ]
    },
    {
      "cell_type": "code",
      "source": [
        "#Generate a mltiplication table using neted loop.\n",
        "n=int(input(\"Enter the number whose table you need:\"))\n",
        "b=int(input(\"Enter the end multiple number:\"))\n",
        "i=0\n",
        "while(i<b):\n",
        "  i+=1\n",
        "  print(n,\"*\",i,\"=\",n*i)"
      ],
      "metadata": {
        "colab": {
          "base_uri": "https://localhost:8080/"
        },
        "id": "_Tsu5ExSUeHW",
        "outputId": "a798f708-df6c-4e61-f2e0-a33d75afc700"
      },
      "execution_count": 22,
      "outputs": [
        {
          "output_type": "stream",
          "name": "stdout",
          "text": [
            "Enter the number whose table you need:2\n",
            "Enter the end multiple number:10\n",
            "2 * 1 = 2\n",
            "2 * 2 = 4\n",
            "2 * 3 = 6\n",
            "2 * 4 = 8\n",
            "2 * 5 = 10\n",
            "2 * 6 = 12\n",
            "2 * 7 = 14\n",
            "2 * 8 = 16\n",
            "2 * 9 = 18\n",
            "2 * 10 = 20\n"
          ]
        }
      ]
    }
  ]
}