{
  "nbformat": 4,
  "nbformat_minor": 0,
  "metadata": {
    "colab": {
      "provenance": []
    },
    "kernelspec": {
      "name": "python3",
      "display_name": "Python 3"
    },
    "language_info": {
      "name": "python"
    }
  },
  "cells": [
    {
      "cell_type": "code",
      "execution_count": 12,
      "metadata": {
        "colab": {
          "base_uri": "https://localhost:8080/"
        },
        "id": "Bm0kN1S42Y7P",
        "outputId": "70069de8-58a8-43ac-c7f7-955ce0ae69ba"
      },
      "outputs": [
        {
          "output_type": "stream",
          "name": "stdout",
          "text": [
            "input number120\n",
            "input number25\n",
            "sum is 25 and difference is 15 and product is 100 and quotient is 4.0\n"
          ]
        }
      ],
      "source": [
        "a = int(input(\"input number1\"))#Calc$late the s$m, difference, prod$ct, and q$otient of two n$mbers.\n",
        "b = int(input(\"input number2\"))\n",
        "print('sum is',a+b,\"and difference is\", a-b, \"and product is\", a*b, \"and quotient is\", a/b)"
      ]
    },
    {
      "cell_type": "code",
      "source": [
        "b+=a\n",
        "b\n",
        "a-=b\n",
        "a\n",
        "a*=b\n",
        "a\n",
        "a%=b\n",
        "a#A, Perform @ario$s assignment operations on a @ariable."
      ],
      "metadata": {
        "colab": {
          "base_uri": "https://localhost:8080/"
        },
        "id": "XHtA5FAPF3ZG",
        "outputId": "c8885ca2-cafd-4575-9c8a-7f42be6a101b"
      },
      "execution_count": 24,
      "outputs": [
        {
          "output_type": "execute_result",
          "data": {
            "text/plain": [
              "0"
            ]
          },
          "metadata": {},
          "execution_count": 24
        }
      ]
    },
    {
      "cell_type": "code",
      "source": [
        "a==b #Compare two n$mbers and print the res$lts."
      ],
      "metadata": {
        "colab": {
          "base_uri": "https://localhost:8080/"
        },
        "id": "Dx4OZ-sxG4TR",
        "outputId": "8b16d5a9-dcda-43e0-d0cb-b799b585359c"
      },
      "execution_count": 23,
      "outputs": [
        {
          "output_type": "execute_result",
          "data": {
            "text/plain": [
              "False"
            ]
          },
          "metadata": {},
          "execution_count": 23
        }
      ]
    },
    {
      "cell_type": "code",
      "source": [
        "#h, Check conditions $sing logical operators.\n",
        "a and b\n",
        "a or b\n",
        "not b"
      ],
      "metadata": {
        "colab": {
          "base_uri": "https://localhost:8080/"
        },
        "id": "s_mBq0GtHJ4T",
        "outputId": "a198d2d3-4a48-4675-ec9c-c4415020905a"
      },
      "execution_count": 28,
      "outputs": [
        {
          "output_type": "execute_result",
          "data": {
            "text/plain": [
              "False"
            ]
          },
          "metadata": {},
          "execution_count": 28
        }
      ]
    },
    {
      "cell_type": "code",
      "source": [
        "#Check the identity of @ariables.\n",
        "id(b)"
      ],
      "metadata": {
        "colab": {
          "base_uri": "https://localhost:8080/"
        },
        "id": "5NpSQML5Hx2n",
        "outputId": "3e674753-9248-4fd9-fdb8-e7efbd0e0929"
      },
      "execution_count": 29,
      "outputs": [
        {
          "output_type": "execute_result",
          "data": {
            "text/plain": [
              "132179979615184"
            ]
          },
          "metadata": {},
          "execution_count": 29
        }
      ]
    },
    {
      "cell_type": "code",
      "source": [
        "c=a or b#Perform bitwise operations on any two integers.\n",
        "b<<5"
      ],
      "metadata": {
        "colab": {
          "base_uri": "https://localhost:8080/"
        },
        "id": "UM_sUE7WH5xY",
        "outputId": "9b4e0f4a-8430-4dff-d66a-0b9178d94f8e"
      },
      "execution_count": 33,
      "outputs": [
        {
          "output_type": "execute_result",
          "data": {
            "text/plain": [
              "-28160"
            ]
          },
          "metadata": {},
          "execution_count": 33
        }
      ]
    },
    {
      "cell_type": "code",
      "source": [
        "#, Use $nary operators to change the sign of a n$mber.\n",
        "abs(b)"
      ],
      "metadata": {
        "colab": {
          "base_uri": "https://localhost:8080/"
        },
        "id": "5m054KGOIPx1",
        "outputId": "1a0b9f8b-4f10-46d9-e27c-9545cfa1e967"
      },
      "execution_count": 34,
      "outputs": [
        {
          "output_type": "execute_result",
          "data": {
            "text/plain": [
              "880"
            ]
          },
          "metadata": {},
          "execution_count": 34
        }
      ]
    },
    {
      "cell_type": "code",
      "source": [
        "#, Use $nary operators to change the sign of a n$mber.\n",
        "a=25\n",
        "b=650\n",
        "if a!=b:\n",
        "  if a>b:print(a,\"is greater than\", b)\n",
        "  else:print(b,\"is greater than\", a)\n",
        "else:print(\"a and b are queal\")\n",
        "\n"
      ],
      "metadata": {
        "colab": {
          "base_uri": "https://localhost:8080/"
        },
        "id": "uGBbhhSTJuMe",
        "outputId": "a73c3deb-f46d-4d29-a5a3-e89185fbea0e"
      },
      "execution_count": 2,
      "outputs": [
        {
          "output_type": "stream",
          "name": "stdout",
          "text": [
            "650 is greater than 25\n"
          ]
        }
      ]
    }
  ]
}