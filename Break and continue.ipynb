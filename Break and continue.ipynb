{
  "nbformat": 4,
  "nbformat_minor": 0,
  "metadata": {
    "colab": {
      "provenance": []
    },
    "kernelspec": {
      "name": "python3",
      "display_name": "Python 3"
    },
    "language_info": {
      "name": "python"
    }
  },
  "cells": [
    {
      "cell_type": "code",
      "execution_count": 1,
      "metadata": {
        "colab": {
          "base_uri": "https://localhost:8080/"
        },
        "id": "VJQ536oNYNu9",
        "outputId": "1d1c769e-ff1a-42dd-b3f9-08d31e7f47fd"
      },
      "outputs": [
        {
          "output_type": "stream",
          "name": "stdout",
          "text": [
            "1\n",
            "2\n",
            "3\n",
            "4\n"
          ]
        }
      ],
      "source": [
        "#Write a program to print numbers from  to 0, but stop if the number is 5.\n",
        "n=10\n",
        "i=0\n",
        "while i < n:\n",
        "  i+=1\n",
        "  if i==5:break\n",
        "  else:print(i)\n"
      ]
    },
    {
      "cell_type": "code",
      "source": [
        "#Write a program to iterate through a list and stop when encountering a specific element.\n",
        "str=[1,2,3,4,5,6,7,8,9,10]\n",
        "for i in str:\n",
        "  if i==5:break\n",
        "  else:print(i)\n"
      ],
      "metadata": {
        "colab": {
          "base_uri": "https://localhost:8080/"
        },
        "id": "3DzjGqF8Y2hU",
        "outputId": "dedb4234-ef07-4f8f-a6da-845e8b33d156"
      },
      "execution_count": 3,
      "outputs": [
        {
          "output_type": "stream",
          "name": "stdout",
          "text": [
            "1\n",
            "2\n",
            "3\n",
            "4\n"
          ]
        }
      ]
    },
    {
      "cell_type": "code",
      "source": [
        "#Write a program to skip printing even numbers from 1 to 10.\n",
        "n=10\n",
        "s=1\n",
        "for s in range (n):\n",
        "  if s%2==0:pass\n",
        "  else:print(s)\n"
      ],
      "metadata": {
        "colab": {
          "base_uri": "https://localhost:8080/"
        },
        "id": "KOVtzv_rZjq0",
        "outputId": "085ec372-da64-40c6-90af-89f3c3bf6cae"
      },
      "execution_count": 5,
      "outputs": [
        {
          "output_type": "stream",
          "name": "stdout",
          "text": [
            "1\n",
            "3\n",
            "5\n",
            "7\n",
            "9\n"
          ]
        }
      ]
    },
    {
      "cell_type": "code",
      "source": [
        "#Write a program to print numbers from 0 to 9 using range()\n",
        "n=10\n",
        "for numbers in range(n): print (numbers)"
      ],
      "metadata": {
        "colab": {
          "base_uri": "https://localhost:8080/"
        },
        "id": "FXQH_6OXaQKp",
        "outputId": "a82bbbb4-b348-4738-cd34-f88685380dbb"
      },
      "execution_count": 8,
      "outputs": [
        {
          "output_type": "stream",
          "name": "stdout",
          "text": [
            "0\n",
            "1\n",
            "2\n",
            "3\n",
            "4\n",
            "5\n",
            "6\n",
            "7\n",
            "8\n",
            "9\n"
          ]
        }
      ]
    },
    {
      "cell_type": "code",
      "source": [
        "#Write a program to print multiplication tables from 1 to 5, but stop after the first table is printed for each number.\n",
        "a=5\n",
        "b=1\n",
        "c=5\n",
        "while b<=a:\n",
        "  s=1\n",
        "  while s <= 10:\n",
        "    print(b,\"*\",s, \"=\",b*s)\n",
        "    s+=1\n",
        "  if b<=a:\n",
        "    d=input(\"Do you want to continue? (Answer in yes or no only:)\")\n",
        "    if d==\"yes\":b+=1\n",
        "    else:break\n",
        "  else:break.\n",
        "\n"
      ],
      "metadata": {
        "colab": {
          "base_uri": "https://localhost:8080/"
        },
        "id": "C6uet6Rhba6W",
        "outputId": "d860b760-d71e-4de0-bedb-e3fbcc31d17e"
      },
      "execution_count": 27,
      "outputs": [
        {
          "name": "stdout",
          "output_type": "stream",
          "text": [
            "1 * 1 = 1\n",
            "1 * 2 = 2\n",
            "1 * 3 = 3\n",
            "1 * 4 = 4\n",
            "1 * 5 = 5\n",
            "1 * 6 = 6\n",
            "1 * 7 = 7\n",
            "1 * 8 = 8\n",
            "1 * 9 = 9\n",
            "1 * 10 = 10\n",
            "Do you want to continue? (Answer in yes or no only:)yes\n",
            "2 * 1 = 2\n",
            "2 * 2 = 4\n",
            "2 * 3 = 6\n",
            "2 * 4 = 8\n",
            "2 * 5 = 10\n",
            "2 * 6 = 12\n",
            "2 * 7 = 14\n",
            "2 * 8 = 16\n",
            "2 * 9 = 18\n",
            "2 * 10 = 20\n",
            "Do you want to continue? (Answer in yes or no only:)yes\n",
            "3 * 1 = 3\n",
            "3 * 2 = 6\n",
            "3 * 3 = 9\n",
            "3 * 4 = 12\n",
            "3 * 5 = 15\n",
            "3 * 6 = 18\n",
            "3 * 7 = 21\n",
            "3 * 8 = 24\n",
            "3 * 9 = 27\n",
            "3 * 10 = 30\n",
            "Do you want to continue? (Answer in yes or no only:)yes\n",
            "4 * 1 = 4\n",
            "4 * 2 = 8\n",
            "4 * 3 = 12\n",
            "4 * 4 = 16\n",
            "4 * 5 = 20\n",
            "4 * 6 = 24\n",
            "4 * 7 = 28\n",
            "4 * 8 = 32\n",
            "4 * 9 = 36\n",
            "4 * 10 = 40\n",
            "Do you want to continue? (Answer in yes or no only:)yes\n",
            "5 * 1 = 5\n",
            "5 * 2 = 10\n",
            "5 * 3 = 15\n",
            "5 * 4 = 20\n",
            "5 * 5 = 25\n",
            "5 * 6 = 30\n",
            "5 * 7 = 35\n",
            "5 * 8 = 40\n",
            "5 * 9 = 45\n",
            "5 * 10 = 50\n",
            "Do you want to continue? (Answer in yes or no only:)yes\n"
          ]
        }
      ]
    },
    {
      "cell_type": "code",
      "source": [
        "#Write a program to skip printing even numbers using a while loop.\n",
        "\n",
        "n=int(input(\"Enter the numbers upto which u need even numbers:\"))\n",
        "s=1\n",
        "while s < n:\n",
        "  if s%2==0:\n",
        "    pass\n",
        "    s+=1\n",
        "  else:\n",
        "    print(s)\n",
        "    s+=1"
      ],
      "metadata": {
        "colab": {
          "base_uri": "https://localhost:8080/"
        },
        "id": "JLdAm389bcLy",
        "outputId": "45d778b4-5399-425c-9e6d-64705b559df0"
      },
      "execution_count": 11,
      "outputs": [
        {
          "output_type": "stream",
          "name": "stdout",
          "text": [
            "Enter the numbers upto which u need even numbers:20\n",
            "1\n",
            "3\n",
            "5\n",
            "7\n",
            "9\n",
            "11\n",
            "13\n",
            "15\n",
            "17\n",
            "19\n"
          ]
        }
      ]
    }
  ]
}