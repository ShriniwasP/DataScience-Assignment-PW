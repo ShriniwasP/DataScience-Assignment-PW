{
  "nbformat": 4,
  "nbformat_minor": 0,
  "metadata": {
    "colab": {
      "provenance": []
    },
    "kernelspec": {
      "name": "python3",
      "display_name": "Python 3"
    },
    "language_info": {
      "name": "python"
    }
  },
  "cells": [
    {
      "cell_type": "code",
      "source": [
        "\"\"\"\n",
        "1) Explain the significance of Python keywords and provide examples of five keywords\n",
        "Keywords in python or any programing language are identifiers that call out a predefined process of the programming language.\n",
        "Examples in python are int, print, input, if, for etc.\n",
        "\n",
        "2) Descri0e the rules for defining identifiers in Python and provide an example\n",
        "Identifier can only begin with either underscore or alphabet.\n",
        "eg>var or _var\n",
        "\n",
        "3) What are comments in Python, and why are they useful6 Provide an example\n",
        "Comments are the lines that are not processed by the compiler.\n",
        "eg> #This is a comment\n",
        "\n",
        "4) Why is proper indentation important in Python6\n",
        "In the below example if the first if and last else are not in same alignment the code will throw error. Hence identation is important in Python\n",
        "if a!=b:\n",
        "  if a>b:print(a,\"is greater than\", b)\n",
        "  else:print(b,\"is greater than\", a)\n",
        "else:print(\"a and b are queal\")\n",
        "\n",
        "5) What happens if indentation is incorrect in Python6\n",
        "It throws error\n",
        "\n",
        "{ Differentiate 0etween expression and statement in Python with examples#\n",
        "Statements:\n",
        "a=5\n",
        "b=10\n",
        "Expression:\n",
        "b/a\n",
        "b+a\n",
        "\"\"\"\n"
      ],
      "metadata": {
        "colab": {
          "base_uri": "https://localhost:8080/",
          "height": 105
        },
        "id": "RxyDKSZJNs_K",
        "outputId": "c3feeb36-3622-4b74-a062-fe7aaec27975"
      },
      "execution_count": 3,
      "outputs": [
        {
          "output_type": "execute_result",
          "data": {
            "text/plain": [
              "'\\n1) Explain the significance of Python keywords and provide examples of five keywords\\nKeywords in python or any programing language are identifiers that call out a predefined process of the programming language. \\nExamples in python are int, print, input, if, for etc.\\n\\n2) Descri0e the rules for defining identifiers in Python and provide an example\\nIdentifier can only begin with either underscore or alphabet.\\neg>var or _var\\n\\n3) What are comments in Python, and why are they useful6 Provide an example\\nComments are the lines that are not processed by the compiler.\\neg> #This is a comment\\n\\n4) Why is proper indentation important in Python6\\nk What happens if indentation is incorrect in Python6\\n{ Differentiate 0etween expression and statement in Python with examples#'"
            ],
            "application/vnd.google.colaboratory.intrinsic+json": {
              "type": "string"
            }
          },
          "metadata": {},
          "execution_count": 3
        }
      ]
    },
    {
      "cell_type": "code",
      "execution_count": null,
      "metadata": {
        "id": "2MThx-4TNpUx"
      },
      "outputs": [],
      "source": []
    },
    {
      "cell_type": "markdown",
      "source": [],
      "metadata": {
        "id": "RqgTgtlpNrw0"
      }
    }
  ]
}