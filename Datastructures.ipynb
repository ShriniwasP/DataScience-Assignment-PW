{
  "nbformat": 4,
  "nbformat_minor": 0,
  "metadata": {
    "colab": {
      "provenance": []
    },
    "kernelspec": {
      "name": "python3",
      "display_name": "Python 3"
    },
    "language_info": {
      "name": "python"
    }
  },
  "cells": [
    {
      "cell_type": "code",
      "execution_count": 1,
      "metadata": {
        "colab": {
          "base_uri": "https://localhost:8080/",
          "height": 106
        },
        "id": "kDbljFvwVaho",
        "outputId": "39a392c1-44b8-44c6-afc8-b603e4687b77"
      },
      "outputs": [
        {
          "output_type": "error",
          "ename": "SyntaxError",
          "evalue": "unterminated string literal (detected at line 9) (<ipython-input-1-16b454c956c9>, line 9)",
          "traceback": [
            "\u001b[0;36m  File \u001b[0;32m\"<ipython-input-1-16b454c956c9>\"\u001b[0;36m, line \u001b[0;32m9\u001b[0m\n\u001b[0;31m    5. In Python, what's the primary difference between dictionaries and lists, and how does this difference impact their use cases in programming?\u001b[0m\n\u001b[0m                      ^\u001b[0m\n\u001b[0;31mSyntaxError\u001b[0m\u001b[0;31m:\u001b[0m unterminated string literal (detected at line 9)\n"
          ]
        }
      ],
      "source": [
        "\"\"\"\n",
        "1. Why might you choose a deque from the collections module to implement a queue instead of using a regular Python list?\n",
        "One of the biggest advantages of deque over a list is the possibility to append and delete items from the left end. A\n",
        "deque object is much more efficient for these operations at the left end, especially as the size of the queue increases.\n",
        "\n",
        "2. Can you explain a real-world scenario where using a stack would be a more practical choice than a list for data storage and retrieval?\n",
        "Real-world examples include the 'undo' function in software applications following the 'LIFO' principle and a\n",
        "web browser's back button function using stack to track visited sites.\n",
        "\n",
        "3. What is the primary advantage of using sets in Python, and in what type of problem-solving scenarios are they most useful?\n",
        "Because sets cannot have multiple occurrences of the same element, it makes sets highly useful to efficiently remove duplicate values\n",
        "from a list or tuple and to perform common math operations like unions and intersections.\n",
        "\n",
        "4. When might you choose to use an array instead of a list for storing numerical data in Python? What benefits do arrays offer in this context?\n",
        "Python arrays are executed when you need to use a large number of variables of the same type. It can also be employed to store data collections.\n",
        "Arrays are incredibly beneficial when you need to process data dynamically. Python arrays are faster than lists because they use less memory.\n",
        "\n",
        "5. In Python, what's the primary difference between dictionaries and lists, and how does this difference impact their use cases in programming?\n",
        "Key Differences Between List and Dictionary in Python. A list is an ordered collection of items, whereas a dictionary is an unordered data collection in a key: value pair.\n",
        "Elements from the list can be accessed using the index, while the elements of the dictionary can be accessed using keys.\n",
        "\n",
        "\n",
        "\n",
        "\"\"\""
      ]
    },
    {
      "cell_type": "code",
      "source": [],
      "metadata": {
        "colab": {
          "base_uri": "https://localhost:8080/"
        },
        "id": "c603u6YUWL0P",
        "outputId": "34c98b3f-cfba-4f79-c616-99c8f62fb107"
      },
      "execution_count": 2,
      "outputs": [
        {
          "output_type": "stream",
          "name": "stdout",
          "text": [
            "printing page1\n",
            "printing page2\n",
            "printing page3\n"
          ]
        }
      ]
    }
  ]
}